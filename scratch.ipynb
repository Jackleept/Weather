{
 "cells": [
  {
   "cell_type": "code",
   "execution_count": 9,
   "metadata": {},
   "outputs": [
    {
     "data": {
      "text/plain": [
       "'{\"lat\":51.5072,\"lon\":0.1276,\"timezone\":\"Europe/London\",\"timezone_offset\":0,\"data\":[{\"dt\":1708366465,\"sunrise\":1708326425,\"sunset\":1708363199,\"temp\":11.52,\"feels_like\":10.45,\"pressure\":1029,\"humidity\":66,\"dew_point\":5.4,\"uvi\":0,\"clouds\":86,\"visibility\":10000,\"wind_speed\":4.12,\"wind_deg\":280,\"weather\":[{\"id\":804,\"main\":\"Clouds\",\"description\":\"overcast clouds\",\"icon\":\"04n\"}]}]}'"
      ]
     },
     "execution_count": 9,
     "metadata": {},
     "output_type": "execute_result"
    }
   ],
   "source": [
    "import requests\n",
    "import sqlite3\n",
    "import time\n",
    "\n",
    "lat = '51.5072'\n",
    "lon = '0.1276'\n",
    "time = int(time.time())\n",
    "key = 'e276140c3e33a20f93a7c86e198a285e'\n",
    "\n",
    "link = f'https://api.openweathermap.org/data/3.0/onecall/timemachine?lat={lat}&lon={lon}&dt={time}&appid={key}&units=metric'\n",
    "conn = sqlite3.connect('weather.db')\n",
    "\n",
    "response = requests.get(link)\n",
    "response.text"
   ]
  }
 ],
 "metadata": {
  "kernelspec": {
   "display_name": "Python 3",
   "language": "python",
   "name": "python3"
  },
  "language_info": {
   "codemirror_mode": {
    "name": "ipython",
    "version": 3
   },
   "file_extension": ".py",
   "mimetype": "text/x-python",
   "name": "python",
   "nbconvert_exporter": "python",
   "pygments_lexer": "ipython3",
   "version": "3.11.0"
  }
 },
 "nbformat": 4,
 "nbformat_minor": 2
}
