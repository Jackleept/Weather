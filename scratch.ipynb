{
 "cells": [
  {
   "cell_type": "code",
   "execution_count": 10,
   "metadata": {},
   "outputs": [
    {
     "data": {
      "text/plain": [
       "'{\"lat\":51.5072,\"lon\":0.1276,\"timezone\":\"Europe/London\",\"timezone_offset\":0,\"data\":[{\"dt\":1708368986,\"sunrise\":1708326425,\"sunset\":1708363199,\"temp\":10.55,\"feels_like\":9.49,\"pressure\":1029,\"humidity\":70,\"dew_point\":5.32,\"uvi\":0,\"clouds\":100,\"visibility\":10000,\"wind_speed\":3.6,\"wind_deg\":280,\"weather\":[{\"id\":804,\"main\":\"Clouds\",\"description\":\"overcast clouds\",\"icon\":\"04n\"}]}]}'"
      ]
     },
     "execution_count": 10,
     "metadata": {},
     "output_type": "execute_result"
    }
   ],
   "source": [
    "import requests\n",
    "import sqlite3\n",
    "import time\n",
    "\n",
    "lat = '51.5072'\n",
    "lon = '0.1276'\n",
    "time = int(time.time())\n",
    "from key import key\n",
    "\n",
    "link = f'https://api.openweathermap.org/data/3.0/onecall/timemachine?lat={lat}&lon={lon}&dt={time}&appid={key}&units=metric'\n",
    "conn = sqlite3.connect('weather.db')\n",
    "\n",
    "response = requests.get(link)\n",
    "response.text"
   ]
  },
  {
   "cell_type": "code",
   "execution_count": 6,
   "metadata": {},
   "outputs": [
    {
     "data": {
      "text/plain": [
       "{'lat': 51.5072,\n",
       " 'lon': 0.1276,\n",
       " 'timezone': 'Europe/London',\n",
       " 'timezone_offset': 0,\n",
       " 'data': [{'dt': 1708367714,\n",
       "   'sunrise': 1708326425,\n",
       "   'sunset': 1708363199,\n",
       "   'temp': 11.05,\n",
       "   'feels_like': 9.93,\n",
       "   'pressure': 1030,\n",
       "   'humidity': 66,\n",
       "   'dew_point': 4.95,\n",
       "   'uvi': 0,\n",
       "   'clouds': 94,\n",
       "   'visibility': 10000,\n",
       "   'wind_speed': 3.6,\n",
       "   'wind_deg': 280,\n",
       "   'weather': [{'id': 804,\n",
       "     'main': 'Clouds',\n",
       "     'description': 'overcast clouds',\n",
       "     'icon': '04n'}]}]}"
      ]
     },
     "execution_count": 6,
     "metadata": {},
     "output_type": "execute_result"
    }
   ],
   "source": [
    "data = response.json()\n",
    "data"
   ]
  },
  {
   "cell_type": "code",
   "execution_count": null,
   "metadata": {},
   "outputs": [],
   "source": []
  }
 ],
 "metadata": {
  "kernelspec": {
   "display_name": "Python 3",
   "language": "python",
   "name": "python3"
  },
  "language_info": {
   "codemirror_mode": {
    "name": "ipython",
    "version": 3
   },
   "file_extension": ".py",
   "mimetype": "text/x-python",
   "name": "python",
   "nbconvert_exporter": "python",
   "pygments_lexer": "ipython3",
   "version": "3.11.0"
  }
 },
 "nbformat": 4,
 "nbformat_minor": 2
}
