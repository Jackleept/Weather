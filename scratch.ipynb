{
 "cells": [
  {
   "cell_type": "code",
   "execution_count": 2,
   "metadata": {},
   "outputs": [
    {
     "data": {
      "text/plain": [
       "'{\"lat\":51.5072,\"lon\":0.1276,\"timezone\":\"Europe/London\",\"timezone_offset\":0,\"data\":[{\"dt\":1708524480,\"sunrise\":1708498985,\"sunset\":1708536217,\"temp\":10.95,\"feels_like\":10.45,\"pressure\":1001,\"humidity\":90,\"dew_point\":9.38,\"uvi\":0.05,\"clouds\":100,\"visibility\":10000,\"wind_speed\":7.72,\"wind_deg\":210,\"wind_gust\":12.86,\"weather\":[{\"id\":500,\"main\":\"Rain\",\"description\":\"light rain\",\"icon\":\"10d\"}]}]}'"
      ]
     },
     "execution_count": 2,
     "metadata": {},
     "output_type": "execute_result"
    }
   ],
   "source": [
    "import requests\n",
    "import sqlite3\n",
    "import time\n",
    "\n",
    "lat = '51.5072'\n",
    "lon = '0.1276'\n",
    "time = int(time.time())\n",
    "from key import key\n",
    "\n",
    "link = f'https://api.openweathermap.org/data/3.0/onecall/timemachine?lat={lat}&lon={lon}&dt={time}&appid={key}&units=metric'\n",
    "conn = sqlite3.connect('weather.db')\n",
    "\n",
    "response = requests.get(link)\n",
    "response.text"
   ]
  },
  {
   "cell_type": "code",
   "execution_count": 3,
   "metadata": {},
   "outputs": [
    {
     "data": {
      "text/plain": [
       "{'lat': 51.5072,\n",
       " 'lon': 0.1276,\n",
       " 'timezone': 'Europe/London',\n",
       " 'timezone_offset': 0,\n",
       " 'data': [{'dt': 1708524480,\n",
       "   'sunrise': 1708498985,\n",
       "   'sunset': 1708536217,\n",
       "   'temp': 10.95,\n",
       "   'feels_like': 10.45,\n",
       "   'pressure': 1001,\n",
       "   'humidity': 90,\n",
       "   'dew_point': 9.38,\n",
       "   'uvi': 0.05,\n",
       "   'clouds': 100,\n",
       "   'visibility': 10000,\n",
       "   'wind_speed': 7.72,\n",
       "   'wind_deg': 210,\n",
       "   'wind_gust': 12.86,\n",
       "   'weather': [{'id': 500,\n",
       "     'main': 'Rain',\n",
       "     'description': 'light rain',\n",
       "     'icon': '10d'}]}]}"
      ]
     },
     "execution_count": 3,
     "metadata": {},
     "output_type": "execute_result"
    }
   ],
   "source": [
    "data = response.json()\n",
    "data"
   ]
  },
  {
   "cell_type": "code",
   "execution_count": 4,
   "metadata": {},
   "outputs": [
    {
     "data": {
      "text/plain": [
       "[{'dt': 1708524480,\n",
       "  'sunrise': 1708498985,\n",
       "  'sunset': 1708536217,\n",
       "  'temp': 10.95,\n",
       "  'feels_like': 10.45,\n",
       "  'pressure': 1001,\n",
       "  'humidity': 90,\n",
       "  'dew_point': 9.38,\n",
       "  'uvi': 0.05,\n",
       "  'clouds': 100,\n",
       "  'visibility': 10000,\n",
       "  'wind_speed': 7.72,\n",
       "  'wind_deg': 210,\n",
       "  'wind_gust': 12.86,\n",
       "  'weather': [{'id': 500,\n",
       "    'main': 'Rain',\n",
       "    'description': 'light rain',\n",
       "    'icon': '10d'}]}]"
      ]
     },
     "execution_count": 4,
     "metadata": {},
     "output_type": "execute_result"
    }
   ],
   "source": [
    "data['data']"
   ]
  },
  {
   "cell_type": "code",
   "execution_count": 5,
   "metadata": {},
   "outputs": [
    {
     "data": {
      "text/plain": [
       "{'dt': 1708524480,\n",
       " 'sunrise': 1708498985,\n",
       " 'sunset': 1708536217,\n",
       " 'temp': 10.95,\n",
       " 'feels_like': 10.45,\n",
       " 'pressure': 1001,\n",
       " 'humidity': 90,\n",
       " 'dew_point': 9.38,\n",
       " 'uvi': 0.05,\n",
       " 'clouds': 100,\n",
       " 'visibility': 10000,\n",
       " 'wind_speed': 7.72,\n",
       " 'wind_deg': 210,\n",
       " 'wind_gust': 12.86,\n",
       " 'weather': [{'id': 500,\n",
       "   'main': 'Rain',\n",
       "   'description': 'light rain',\n",
       "   'icon': '10d'}]}"
      ]
     },
     "execution_count": 5,
     "metadata": {},
     "output_type": "execute_result"
    }
   ],
   "source": [
    "d1 = {}\n",
    "\n",
    "for i in data['data']:\n",
    "    d1.update(i)\n",
    "\n",
    "d1"
   ]
  },
  {
   "cell_type": "code",
   "execution_count": null,
   "metadata": {},
   "outputs": [
    {
     "ename": "ProgrammingError",
     "evalue": "Incorrect number of bindings supplied. The current statement uses 1, and there are 16 supplied.",
     "output_type": "error",
     "traceback": [
      "\u001b[1;31m---------------------------------------------------------------------------\u001b[0m",
      "\u001b[1;31mProgrammingError\u001b[0m                          Traceback (most recent call last)",
      "Cell \u001b[1;32mIn[38], line 14\u001b[0m\n\u001b[0;32m      6\u001b[0m cursor\u001b[38;5;241m.\u001b[39mexecutescript(\u001b[38;5;124m'''\u001b[39m\n\u001b[0;32m      7\u001b[0m \n\u001b[0;32m      8\u001b[0m \u001b[38;5;124m            CREATE TABLE IF NOT EXISTS weather (\u001b[39m\n\u001b[0;32m      9\u001b[0m \u001b[38;5;124m                        data json\u001b[39m\n\u001b[0;32m     10\u001b[0m \u001b[38;5;124m        )\u001b[39m\n\u001b[0;32m     11\u001b[0m \u001b[38;5;124m    \u001b[39m\u001b[38;5;124m'''\u001b[39m)\n\u001b[0;32m     13\u001b[0m \u001b[38;5;28;01mfor\u001b[39;00m i \u001b[38;5;129;01min\u001b[39;00m data\u001b[38;5;241m.\u001b[39mitems():\n\u001b[1;32m---> 14\u001b[0m         \u001b[43mcursor\u001b[49m\u001b[38;5;241;43m.\u001b[39;49m\u001b[43mexecute\u001b[49m\u001b[43m(\u001b[49m\u001b[38;5;124;43m'\u001b[39;49m\u001b[38;5;124;43mINSERT INTO weather VALUES (?)\u001b[39;49m\u001b[38;5;124;43m'\u001b[39;49m\u001b[43m,\u001b[49m\n\u001b[0;32m     15\u001b[0m \u001b[43m                        \u001b[49m\u001b[43m(\u001b[49m\u001b[43mjson\u001b[49m\u001b[38;5;241;43m.\u001b[39;49m\u001b[43mdumps\u001b[49m\u001b[43m(\u001b[49m\u001b[43mi\u001b[49m\u001b[43m)\u001b[49m\u001b[43m)\u001b[49m\u001b[43m)\u001b[49m\n\u001b[0;32m     16\u001b[0m conn\u001b[38;5;241m.\u001b[39mcommit()\n",
      "\u001b[1;31mProgrammingError\u001b[0m: Incorrect number of bindings supplied. The current statement uses 1, and there are 16 supplied."
     ]
    }
   ],
   "source": [
    "import json\n",
    "\n",
    "conn = sqlite3.connect('weather.db')\n",
    "cursor = conn.cursor()\n",
    "\n",
    "cursor.executescript('''\n",
    "\n",
    "            CREATE TABLE IF NOT EXISTS weather (\n",
    "                     lat\n",
    "                     long\n",
    "                     timezone\n",
    "                     timezone_offset\n",
    "                     date\n",
    "                     sunrise\n",
    "                     sunset\n",
    "                     temp\n",
    "                     feels_like\n",
    "                     pressure\n",
    "                     humidity\n",
    "                     dew_point\n",
    "                     uvi\n",
    "                     clouds\n",
    "                     visibility\n",
    "                     wind_speed\n",
    "                     wind_deg\n",
    "                     wind_gust\n",
    "                     weather_id\n",
    "                     main\n",
    "                     description\n",
    "                     icon\n",
    "                     \n",
    "        )\n",
    "    ''')\n",
    "\n",
    "for i in data.items():\n",
    "        cursor.execute('INSERT INTO weather VALUES (?, ?, ?, ?, ?, ?, ?, ?, ?, ?, ?, ?, ?, ?, ?, ?, ?, ?, ?, ?, ?, ?)',\n",
    "                        (json.dumps(i)))\n",
    "conn.commit()"
   ]
  },
  {
   "cell_type": "code",
   "execution_count": null,
   "metadata": {},
   "outputs": [
    {
     "ename": "NameError",
     "evalue": "name 'df' is not defined",
     "output_type": "error",
     "traceback": [
      "\u001b[1;31m---------------------------------------------------------------------------\u001b[0m",
      "\u001b[1;31mNameError\u001b[0m                                 Traceback (most recent call last)",
      "Cell \u001b[1;32mIn[8], line 3\u001b[0m\n\u001b[0;32m      1\u001b[0m \u001b[38;5;28;01mimport\u001b[39;00m \u001b[38;5;21;01mpandas\u001b[39;00m \u001b[38;5;28;01mas\u001b[39;00m \u001b[38;5;21;01mpd\u001b[39;00m\n\u001b[1;32m----> 3\u001b[0m df[\u001b[38;5;124m'\u001b[39m\u001b[38;5;124mdata\u001b[39m\u001b[38;5;124m'\u001b[39m] \u001b[38;5;241m=\u001b[39m \u001b[43mdf\u001b[49m[\u001b[38;5;124m'\u001b[39m\u001b[38;5;124mdata\u001b[39m\u001b[38;5;124m'\u001b[39m]\u001b[38;5;241m.\u001b[39mapply(json\u001b[38;5;241m.\u001b[39mloads)\n\u001b[0;32m      4\u001b[0m df[\u001b[38;5;124m'\u001b[39m\u001b[38;5;124mdata\u001b[39m\u001b[38;5;124m'\u001b[39m]\n",
      "\u001b[1;31mNameError\u001b[0m: name 'df' is not defined"
     ]
    }
   ],
   "source": [
    "import pandas as pd\n",
    "\n",
    "df = pd.read_json()\n",
    "df['data'] = df['data'].apply(json.loads)\n",
    "df['data']"
   ]
  },
  {
   "cell_type": "code",
   "execution_count": null,
   "metadata": {},
   "outputs": [],
   "source": []
  }
 ],
 "metadata": {
  "kernelspec": {
   "display_name": "Python 3",
   "language": "python",
   "name": "python3"
  },
  "language_info": {
   "codemirror_mode": {
    "name": "ipython",
    "version": 3
   },
   "file_extension": ".py",
   "mimetype": "text/x-python",
   "name": "python",
   "nbconvert_exporter": "python",
   "pygments_lexer": "ipython3",
   "version": "3.11.0"
  }
 },
 "nbformat": 4,
 "nbformat_minor": 2
}
