{
 "cells": [
  {
   "cell_type": "code",
   "execution_count": 21,
   "metadata": {},
   "outputs": [
    {
     "data": {
      "text/plain": [
       "'{\"lat\":51.5072,\"lon\":0.1276,\"timezone\":\"Europe/London\",\"timezone_offset\":0,\"data\":[{\"dt\":1708593601,\"sunrise\":1708585263,\"sunset\":1708622726,\"temp\":11.21,\"feels_like\":10.68,\"pressure\":984,\"humidity\":88,\"dew_point\":9.3,\"uvi\":0.13,\"clouds\":75,\"visibility\":10000,\"wind_speed\":5.14,\"wind_deg\":170,\"weather\":[{\"id\":803,\"main\":\"Clouds\",\"description\":\"broken clouds\",\"icon\":\"04d\"}]}]}'"
      ]
     },
     "execution_count": 21,
     "metadata": {},
     "output_type": "execute_result"
    }
   ],
   "source": [
    "import requests\n",
    "import sqlite3\n",
    "import time\n",
    "\n",
    "\n",
    "lat = '51.5072'\n",
    "lon = '0.1276'\n",
    "now = int(time.time())\n",
    "from key import key\n",
    "\n",
    "link = f'https://api.openweathermap.org/data/3.0/onecall/timemachine?lat={lat}&lon={lon}&dt={now}&appid={key}&units=metric'\n",
    "conn = sqlite3.connect('weather.db')\n",
    "response = requests.get(link)\n",
    "response.text"
   ]
  },
  {
   "cell_type": "code",
   "execution_count": 4,
   "metadata": {},
   "outputs": [
    {
     "data": {
      "text/plain": [
       "{'lat': 51.5072,\n",
       " 'lon': 0.1276,\n",
       " 'timezone': 'Europe/London',\n",
       " 'timezone_offset': 0,\n",
       " 'data': [{'dt': 1708590535,\n",
       "   'sunrise': 1708585263,\n",
       "   'sunset': 1708622726,\n",
       "   'temp': 10.33,\n",
       "   'feels_like': 9.77,\n",
       "   'pressure': 986,\n",
       "   'humidity': 90,\n",
       "   'dew_point': 8.76,\n",
       "   'uvi': 0.04,\n",
       "   'clouds': 75,\n",
       "   'visibility': 10000,\n",
       "   'wind_speed': 5.66,\n",
       "   'wind_deg': 170,\n",
       "   'weather': [{'id': 500,\n",
       "     'main': 'Rain',\n",
       "     'description': 'light rain',\n",
       "     'icon': '10d'}]}]}"
      ]
     },
     "execution_count": 4,
     "metadata": {},
     "output_type": "execute_result"
    }
   ],
   "source": [
    "data = response.json()\n",
    "data"
   ]
  },
  {
   "cell_type": "code",
   "execution_count": 5,
   "metadata": {},
   "outputs": [
    {
     "data": {
      "text/plain": [
       "{'lat': 51.5072,\n",
       " 'lon': 0.1276,\n",
       " 'timezone': 'Europe/London',\n",
       " 'timezone_offset': 0,\n",
       " 'dt': 1708590535,\n",
       " 'sunrise': 1708585263,\n",
       " 'sunset': 1708622726,\n",
       " 'temp': 10.33,\n",
       " 'feels_like': 9.77,\n",
       " 'pressure': 986,\n",
       " 'humidity': 90,\n",
       " 'dew_point': 8.76,\n",
       " 'uvi': 0.04,\n",
       " 'clouds': 75,\n",
       " 'visibility': 10000,\n",
       " 'wind_speed': 5.66,\n",
       " 'wind_deg': 170,\n",
       " 'id': 500,\n",
       " 'main': 'Rain',\n",
       " 'description': 'light rain',\n",
       " 'icon': '10d'}"
      ]
     },
     "execution_count": 5,
     "metadata": {},
     "output_type": "execute_result"
    }
   ],
   "source": [
    "d1 = {'lat': data['lat'], 'lon': data['lon'], 'timezone': data['timezone'], 'timezone_offset': data['timezone_offset']}\n",
    "\n",
    "for i in data['data']:\n",
    "    d1.update(i)\n",
    "\n",
    "for i in d1['weather']:\n",
    "    d1.update(i)\n",
    "\n",
    "d1.pop('weather')\n",
    "\n",
    "data = d1\n",
    "data"
   ]
  },
  {
   "cell_type": "code",
   "execution_count": 23,
   "metadata": {},
   "outputs": [
    {
     "data": {
      "text/plain": [
       "[51.5072,\n",
       " 0.1276,\n",
       " 'Europe/London',\n",
       " 0,\n",
       " 1708590032,\n",
       " 1708585263,\n",
       " 1708622726,\n",
       " 10.33,\n",
       " 9.77,\n",
       " 986,\n",
       " 90,\n",
       " 8.76,\n",
       " 0.04,\n",
       " 75,\n",
       " 10000,\n",
       " 5.66,\n",
       " 170,\n",
       " 500,\n",
       " 'Rain',\n",
       " 'light rain',\n",
       " '10d']"
      ]
     },
     "execution_count": 23,
     "metadata": {},
     "output_type": "execute_result"
    }
   ],
   "source": [
    "l1 = []\n",
    "\n",
    "for n, i in data.items():\n",
    "    l1.append(i)\n",
    "\n",
    "l1"
   ]
  },
  {
   "cell_type": "code",
   "execution_count": 24,
   "metadata": {},
   "outputs": [
    {
     "ename": "ProgrammingError",
     "evalue": "Incorrect number of bindings supplied. The current statement uses 22, and there are 21 supplied.",
     "output_type": "error",
     "traceback": [
      "\u001b[1;31m---------------------------------------------------------------------------\u001b[0m",
      "\u001b[1;31mProgrammingError\u001b[0m                          Traceback (most recent call last)",
      "Cell \u001b[1;32mIn[24], line 32\u001b[0m\n\u001b[0;32m      2\u001b[0m cursor \u001b[38;5;241m=\u001b[39m conn\u001b[38;5;241m.\u001b[39mcursor()\n\u001b[0;32m      4\u001b[0m cursor\u001b[38;5;241m.\u001b[39mexecutescript(\u001b[38;5;124m'''\u001b[39m\n\u001b[0;32m      5\u001b[0m \n\u001b[0;32m      6\u001b[0m \u001b[38;5;124m            CREATE TABLE IF NOT EXISTS weather (\u001b[39m\n\u001b[1;32m   (...)\u001b[0m\n\u001b[0;32m     29\u001b[0m \u001b[38;5;124m        )\u001b[39m\n\u001b[0;32m     30\u001b[0m \u001b[38;5;124m    \u001b[39m\u001b[38;5;124m'''\u001b[39m)\n\u001b[1;32m---> 32\u001b[0m \u001b[43mcursor\u001b[49m\u001b[38;5;241;43m.\u001b[39;49m\u001b[43mexecute\u001b[49m\u001b[43m(\u001b[49m\u001b[38;5;124;43m'\u001b[39;49m\u001b[38;5;124;43mINSERT INTO weather VALUES (?, ?, ?, ?, ?, ?, ?, ?, ?, ?, ?, ?, ?, ?, ?, ?, ?, ?, ?, ?, ?, ?)\u001b[39;49m\u001b[38;5;124;43m'\u001b[39;49m\u001b[43m,\u001b[49m\n\u001b[0;32m     33\u001b[0m \u001b[43m                        \u001b[49m\u001b[43m(\u001b[49m\u001b[43ml1\u001b[49m\u001b[43m)\u001b[49m\u001b[43m)\u001b[49m\n\u001b[0;32m     34\u001b[0m conn\u001b[38;5;241m.\u001b[39mcommit()\n",
      "\u001b[1;31mProgrammingError\u001b[0m: Incorrect number of bindings supplied. The current statement uses 22, and there are 21 supplied."
     ]
    }
   ],
   "source": [
    "conn = sqlite3.connect('weather.db')\n",
    "cursor = conn.cursor()\n",
    "\n",
    "cursor.executescript('''\n",
    "\n",
    "            CREATE TABLE IF NOT EXISTS weather (\n",
    "                     lat,\n",
    "                     long,\n",
    "                     timezone,\n",
    "                     timezone_offset,\n",
    "                     date,\n",
    "                     sunrise,\n",
    "                     sunset,\n",
    "                     temp,\n",
    "                     feels_like,\n",
    "                     pressure,\n",
    "                     humidity,\n",
    "                     dew_point,\n",
    "                     uvi,\n",
    "                     clouds,\n",
    "                     visibility,\n",
    "                     wind_speed,\n",
    "                     wind_deg,\n",
    "                     wind_gust,\n",
    "                     weather_id,\n",
    "                     main,\n",
    "                     description,\n",
    "                     icon     \n",
    "        )\n",
    "    ''')\n",
    "\n",
    "cursor.execute('INSERT INTO weather VALUES (?, ?, ?, ?, ?, ?, ?, ?, ?, ?, ?, ?, ?, ?, ?, ?, ?, ?, ?, ?, ?, ?)',\n",
    "                        (l1))\n",
    "conn.commit()"
   ]
  },
  {
   "cell_type": "code",
   "execution_count": null,
   "metadata": {},
   "outputs": [],
   "source": [
    "def drop_table():\n",
    "\n",
    "    cursor = conn.cursor()\n",
    "\n",
    "    cursor.executescript('''\n",
    "\n",
    "        DROP TABLE IF EXISTS weather\n",
    "\n",
    "    ''')\n",
    "\n",
    "    conn.commit()\n",
    "\n",
    "drop_table()"
   ]
  },
  {
   "cell_type": "markdown",
   "metadata": {},
   "source": [
    "Abandoning ETL method as API only includes available data, leading to errors like:\n",
    "\n",
    "\"ProgrammingError: Incorrect number of bindings supplied. The current statement uses 22, and there are 21 supplied.\""
   ]
  },
  {
   "cell_type": "code",
   "execution_count": 63,
   "metadata": {},
   "outputs": [
    {
     "data": {
      "text/plain": [
       "1708599764.5226393"
      ]
     },
     "execution_count": 63,
     "metadata": {},
     "output_type": "execute_result"
    }
   ],
   "source": [
    "try:\n",
    "    with open('last_executed.txt') as f:\n",
    "        last_execution_date = float(f.read())\n",
    "except FileNotFoundError:\n",
    "        last_execution_date = time.time()\n",
    "\n",
    "last_execution_date"
   ]
  },
  {
   "cell_type": "code",
   "execution_count": 33,
   "metadata": {},
   "outputs": [
    {
     "data": {
      "text/plain": [
       "240.60427165031433"
      ]
     },
     "execution_count": 33,
     "metadata": {},
     "output_type": "execute_result"
    }
   ],
   "source": [
    "def delta():\n",
    "    try:\n",
    "        with open('last_executed.txt') as f:\n",
    "            last_execution_date = f.read()\n",
    "            delta = time.time() - float(last_execution_date)\n",
    "    except FileNotFoundError:\n",
    "            delta = 0\n",
    "    return delta\n",
    "delta()"
   ]
  },
  {
   "cell_type": "code",
   "execution_count": 62,
   "metadata": {},
   "outputs": [],
   "source": [
    "with open('last_executed.txt', 'w') as f:\n",
    "            f.write(str(time.time()))"
   ]
  },
  {
   "cell_type": "code",
   "execution_count": 53,
   "metadata": {},
   "outputs": [
    {
     "data": {
      "text/plain": [
       "'farts'"
      ]
     },
     "execution_count": 53,
     "metadata": {},
     "output_type": "execute_result"
    }
   ],
   "source": [
    "def get_links():\n",
    "    if last_execution_date // 86400 ==  time.time() // 86400:\n",
    "        return 'farts'\n",
    "\n",
    "    links = []\n",
    "\n",
    "    def build_link(date):\n",
    "        lat = '51.5072'\n",
    "        lon = '0.1276'\n",
    "        from key import key\n",
    "        link = f'ttps://api.openweathermap.org/data/3.0/onecall/timemachine?lat={lat}&lon={lon}&dt={date}&appid={key}&units=metric'\n",
    "        links.append(link)\n",
    "\n",
    "    for x in range():\n",
    "        build_link(x)\n",
    "        return links\n",
    "\n",
    "get_links()"
   ]
  },
  {
   "cell_type": "code",
   "execution_count": 64,
   "metadata": {},
   "outputs": [
    {
     "name": "stdout",
     "output_type": "stream",
     "text": [
      "1708599600.0 1708599764.5226393\n"
     ]
    }
   ],
   "source": [
    "nearest_hour = last_execution_date - last_execution_date % 3600\n",
    "\n",
    "print(nearest_hour, last_execution_date)"
   ]
  },
  {
   "cell_type": "code",
   "execution_count": 65,
   "metadata": {},
   "outputs": [
    {
     "data": {
      "text/plain": [
       "19775.458333333332"
      ]
     },
     "execution_count": 65,
     "metadata": {},
     "output_type": "execute_result"
    }
   ],
   "source": [
    "nearest_hour/3600/24"
   ]
  },
  {
   "cell_type": "code",
   "execution_count": 47,
   "metadata": {},
   "outputs": [
    {
     "data": {
      "text/plain": [
       "19775.0"
      ]
     },
     "execution_count": 47,
     "metadata": {},
     "output_type": "execute_result"
    }
   ],
   "source": [
    "time.time() // 86400"
   ]
  },
  {
   "cell_type": "code",
   "execution_count": 44,
   "metadata": {},
   "outputs": [
    {
     "data": {
      "text/plain": [
       "19775.0"
      ]
     },
     "execution_count": 44,
     "metadata": {},
     "output_type": "execute_result"
    }
   ],
   "source": [
    "float(last_execution_date) // 86400"
   ]
  },
  {
   "cell_type": "code",
   "execution_count": 41,
   "metadata": {},
   "outputs": [
    {
     "data": {
      "text/plain": [
       "34862.635384082794"
      ]
     },
     "execution_count": 41,
     "metadata": {},
     "output_type": "execute_result"
    }
   ],
   "source": [
    "float(last_execution_date) % 86400"
   ]
  },
  {
   "cell_type": "code",
   "execution_count": 15,
   "metadata": {},
   "outputs": [
    {
     "ename": "ProgrammingError",
     "evalue": "Binding 1 has no name, but you supplied a dictionary (which has only names).",
     "output_type": "error",
     "traceback": [
      "\u001b[1;31m---------------------------------------------------------------------------\u001b[0m",
      "\u001b[1;31mProgrammingError\u001b[0m                          Traceback (most recent call last)",
      "Cell \u001b[1;32mIn[15], line 14\u001b[0m\n\u001b[0;32m      4\u001b[0m cursor \u001b[38;5;241m=\u001b[39m conn\u001b[38;5;241m.\u001b[39mcursor()\n\u001b[0;32m      6\u001b[0m cursor\u001b[38;5;241m.\u001b[39mexecutescript(\u001b[38;5;124m'''\u001b[39m\n\u001b[0;32m      7\u001b[0m \n\u001b[0;32m      8\u001b[0m \u001b[38;5;124m            CREATE TABLE IF NOT EXISTS weather (\u001b[39m\n\u001b[1;32m   (...)\u001b[0m\n\u001b[0;32m     11\u001b[0m \u001b[38;5;124m        )\u001b[39m\n\u001b[0;32m     12\u001b[0m \u001b[38;5;124m    \u001b[39m\u001b[38;5;124m'''\u001b[39m)\n\u001b[1;32m---> 14\u001b[0m \u001b[43mcursor\u001b[49m\u001b[38;5;241;43m.\u001b[39;49m\u001b[43mexecute\u001b[49m\u001b[43m(\u001b[49m\u001b[38;5;124;43m'\u001b[39;49m\u001b[38;5;124;43mINSERT INTO weather VALUES (?)\u001b[39;49m\u001b[38;5;124;43m'\u001b[39;49m\u001b[43m,\u001b[49m\n\u001b[0;32m     15\u001b[0m \u001b[43m                        \u001b[49m\u001b[43m(\u001b[49m\u001b[43mdata\u001b[49m\u001b[43m)\u001b[49m\u001b[43m)\u001b[49m\n\u001b[0;32m     16\u001b[0m conn\u001b[38;5;241m.\u001b[39mcommit()\n",
      "\u001b[1;31mProgrammingError\u001b[0m: Binding 1 has no name, but you supplied a dictionary (which has only names)."
     ]
    }
   ],
   "source": [
    "import json\n",
    "\n",
    "conn = sqlite3.connect('weather.db')\n",
    "cursor = conn.cursor()\n",
    "\n",
    "cursor.executescript('''\n",
    "\n",
    "            CREATE TABLE IF NOT EXISTS weather (\n",
    "                     \n",
    "                     data    \n",
    "        )\n",
    "    ''')\n",
    "\n",
    "cursor.execute('INSERT INTO weather VALUES (?)',\n",
    "                        (data))\n",
    "conn.commit()"
   ]
  },
  {
   "cell_type": "code",
   "execution_count": 11,
   "metadata": {},
   "outputs": [
    {
     "data": {
      "text/html": [
       "<div>\n",
       "<style scoped>\n",
       "    .dataframe tbody tr th:only-of-type {\n",
       "        vertical-align: middle;\n",
       "    }\n",
       "\n",
       "    .dataframe tbody tr th {\n",
       "        vertical-align: top;\n",
       "    }\n",
       "\n",
       "    .dataframe thead th {\n",
       "        text-align: right;\n",
       "    }\n",
       "</style>\n",
       "<table border=\"1\" class=\"dataframe\">\n",
       "  <thead>\n",
       "    <tr style=\"text-align: right;\">\n",
       "      <th></th>\n",
       "      <th>lat</th>\n",
       "      <th>long</th>\n",
       "      <th>timezone</th>\n",
       "      <th>timezone_offset</th>\n",
       "      <th>date</th>\n",
       "      <th>sunrise</th>\n",
       "      <th>sunset</th>\n",
       "      <th>temp</th>\n",
       "      <th>feels_like</th>\n",
       "      <th>pressure</th>\n",
       "      <th>...</th>\n",
       "      <th>uvi</th>\n",
       "      <th>clouds</th>\n",
       "      <th>visibility</th>\n",
       "      <th>wind_speed</th>\n",
       "      <th>wind_deg</th>\n",
       "      <th>wind_gust</th>\n",
       "      <th>weather_id</th>\n",
       "      <th>main</th>\n",
       "      <th>description</th>\n",
       "      <th>icon</th>\n",
       "    </tr>\n",
       "  </thead>\n",
       "  <tbody>\n",
       "  </tbody>\n",
       "</table>\n",
       "<p>0 rows × 22 columns</p>\n",
       "</div>"
      ],
      "text/plain": [
       "Empty DataFrame\n",
       "Columns: [lat, long, timezone, timezone_offset, date, sunrise, sunset, temp, feels_like, pressure, humidity, dew_point, uvi, clouds, visibility, wind_speed, wind_deg, wind_gust, weather_id, main, description, icon]\n",
       "Index: []\n",
       "\n",
       "[0 rows x 22 columns]"
      ]
     },
     "execution_count": 11,
     "metadata": {},
     "output_type": "execute_result"
    }
   ],
   "source": [
    "import pandas as pd\n",
    "\n",
    "df = pd.read_sql_query('''SELECT * FROM weather''', conn)\n",
    "df"
   ]
  }
 ],
 "metadata": {
  "kernelspec": {
   "display_name": "Python 3",
   "language": "python",
   "name": "python3"
  },
  "language_info": {
   "codemirror_mode": {
    "name": "ipython",
    "version": 3
   },
   "file_extension": ".py",
   "mimetype": "text/x-python",
   "name": "python",
   "nbconvert_exporter": "python",
   "pygments_lexer": "ipython3",
   "version": "3.11.0"
  }
 },
 "nbformat": 4,
 "nbformat_minor": 2
}
